{
 "cells": [
  {
   "cell_type": "markdown",
   "metadata": {},
   "source": [
    "## Dataset loading"
   ]
  },
  {
   "cell_type": "code",
   "execution_count": 1,
   "metadata": {},
   "outputs": [],
   "source": [
    "import numpy as np\n",
    "import pandas as pd\n",
    "import matplotlib.pyplot as plt\n",
    "import seaborn as sns\n",
    "from matplotlib import rcParams\n",
    "rcParams['axes.spines.top'] = False\n",
    "rcParams['axes.spines.right'] = False"
   ]
  },
  {
   "cell_type": "code",
   "execution_count": 2,
   "metadata": {},
   "outputs": [
    {
     "data": {
      "text/html": [
       "<div>\n",
       "<style scoped>\n",
       "    .dataframe tbody tr th:only-of-type {\n",
       "        vertical-align: middle;\n",
       "    }\n",
       "\n",
       "    .dataframe tbody tr th {\n",
       "        vertical-align: top;\n",
       "    }\n",
       "\n",
       "    .dataframe thead th {\n",
       "        text-align: right;\n",
       "    }\n",
       "</style>\n",
       "<table border=\"1\" class=\"dataframe\">\n",
       "  <thead>\n",
       "    <tr style=\"text-align: right;\">\n",
       "      <th></th>\n",
       "      <th>Species</th>\n",
       "      <th>Weight</th>\n",
       "      <th>Length1</th>\n",
       "      <th>Length2</th>\n",
       "      <th>Length3</th>\n",
       "      <th>Height</th>\n",
       "      <th>Width</th>\n",
       "    </tr>\n",
       "  </thead>\n",
       "  <tbody>\n",
       "    <tr>\n",
       "      <th>0</th>\n",
       "      <td>Bream</td>\n",
       "      <td>242.0</td>\n",
       "      <td>23.2</td>\n",
       "      <td>25.4</td>\n",
       "      <td>30.0</td>\n",
       "      <td>11.5200</td>\n",
       "      <td>4.0200</td>\n",
       "    </tr>\n",
       "    <tr>\n",
       "      <th>1</th>\n",
       "      <td>Bream</td>\n",
       "      <td>290.0</td>\n",
       "      <td>24.0</td>\n",
       "      <td>26.3</td>\n",
       "      <td>31.2</td>\n",
       "      <td>12.4800</td>\n",
       "      <td>4.3056</td>\n",
       "    </tr>\n",
       "    <tr>\n",
       "      <th>2</th>\n",
       "      <td>Bream</td>\n",
       "      <td>340.0</td>\n",
       "      <td>23.9</td>\n",
       "      <td>26.5</td>\n",
       "      <td>31.1</td>\n",
       "      <td>12.3778</td>\n",
       "      <td>4.6961</td>\n",
       "    </tr>\n",
       "    <tr>\n",
       "      <th>3</th>\n",
       "      <td>Bream</td>\n",
       "      <td>363.0</td>\n",
       "      <td>26.3</td>\n",
       "      <td>29.0</td>\n",
       "      <td>33.5</td>\n",
       "      <td>12.7300</td>\n",
       "      <td>4.4555</td>\n",
       "    </tr>\n",
       "    <tr>\n",
       "      <th>4</th>\n",
       "      <td>Bream</td>\n",
       "      <td>430.0</td>\n",
       "      <td>26.5</td>\n",
       "      <td>29.0</td>\n",
       "      <td>34.0</td>\n",
       "      <td>12.4440</td>\n",
       "      <td>5.1340</td>\n",
       "    </tr>\n",
       "  </tbody>\n",
       "</table>\n",
       "</div>"
      ],
      "text/plain": [
       "  Species  Weight  Length1  Length2  Length3   Height   Width\n",
       "0   Bream   242.0     23.2     25.4     30.0  11.5200  4.0200\n",
       "1   Bream   290.0     24.0     26.3     31.2  12.4800  4.3056\n",
       "2   Bream   340.0     23.9     26.5     31.1  12.3778  4.6961\n",
       "3   Bream   363.0     26.3     29.0     33.5  12.7300  4.4555\n",
       "4   Bream   430.0     26.5     29.0     34.0  12.4440  5.1340"
      ]
     },
     "execution_count": 2,
     "metadata": {},
     "output_type": "execute_result"
    }
   ],
   "source": [
    "df = pd.read_csv('data/Fish.csv')\n",
    "df.head()"
   ]
  },
  {
   "cell_type": "markdown",
   "metadata": {},
   "source": [
    "<br><br>\n",
    "\n",
    "## Exploratory Data Analysis"
   ]
  },
  {
   "cell_type": "code",
   "execution_count": 3,
   "metadata": {},
   "outputs": [
    {
     "data": {
      "text/plain": [
       "Species    0\n",
       "Weight     0\n",
       "Length1    0\n",
       "Length2    0\n",
       "Length3    0\n",
       "Height     0\n",
       "Width      0\n",
       "dtype: int64"
      ]
     },
     "execution_count": 3,
     "metadata": {},
     "output_type": "execute_result"
    }
   ],
   "source": [
    "df.isnull().sum()"
   ]
  },
  {
   "cell_type": "code",
   "execution_count": 4,
   "metadata": {},
   "outputs": [
    {
     "data": {
      "image/png": "[encoded data removed]",
      "text/plain": [
       "<Figure size 864x504 with 1 Axes>"
      ]
     },
     "metadata": {
      "needs_background": "light"
     },
     "output_type": "display_data"
    }
   ],
   "source": [
    "plt.figure(figsize=(12, 7))\n",
    "plt.title('Target variable (Weight) distribution', size=20)\n",
    "plt.xlabel('Weight', size=14)\n",
    "plt.ylabel('Count', size=14)\n",
    "plt.hist(df['Weight'], bins=15, color='#4f4f4f', ec='#040404');"
   ]
  },
  {
   "cell_type": "code",
   "execution_count": 5,
   "metadata": {},
   "outputs": [],
   "source": [
    "def describe_species(species):\n",
    "    subset = df[df['Species'] == species]\n",
    "    print(f'============ {species.upper()} ============')\n",
    "    print(f'Count: {len(subset)}')\n",
    "    print(f'Pct. total: {(len(subset) / len(df) * 100):.2f}%')\n",
    "    for column in df.columns[1:]:\n",
    "        avg = np.round(subset[column].mean(), 2)\n",
    "        sd = np.round(subset[column].std(), 2)\n",
    "        print(f'Avg. {column:>7}: {avg:6} +/- {sd:6}')"
   ]
  },
  {
   "cell_type": "code",
   "execution_count": 6,
   "metadata": {},
   "outputs": [
    {
     "name": "stdout",
     "output_type": "stream",
     "text": [
      "============ BREAM ============\n",
      "Count: 35\n",
      "Pct. total: 22.01%\n",
      "Avg.  Weight: 617.83 +/- 209.21\n",
      "Avg. Length1:  30.31 +/-   3.59\n",
      "Avg. Length2:  33.11 +/-   3.91\n",
      "Avg. Length3:  38.35 +/-   4.16\n",
      "Avg.  Height:  15.18 +/-   1.96\n",
      "Avg.   Width:   5.43 +/-   0.72\n",
      "\n",
      "============ ROACH ============\n",
      "Count: 20\n",
      "Pct. total: 12.58%\n",
      "Avg.  Weight: 152.05 +/-  88.83\n",
      "Avg. Length1:  20.65 +/-   3.46\n",
      "Avg. Length2:  22.28 +/-   3.65\n",
      "Avg. Length3:  24.97 +/-   4.03\n",
      "Avg.  Height:   6.69 +/-   1.26\n",
      "Avg.   Width:   3.66 +/-   0.69\n",
      "\n",
      "============ WHITEFISH ============\n",
      "Count: 6\n",
      "Pct. total: 3.77%\n",
      "Avg.  Weight:  531.0 +/-  309.6\n",
      "Avg. Length1:   28.8 +/-   5.58\n",
      "Avg. Length2:  31.32 +/-   5.72\n",
      "Avg. Length3:  34.32 +/-   6.02\n",
      "Avg.  Height:  10.03 +/-   1.83\n",
      "Avg.   Width:   5.47 +/-   1.19\n",
      "\n",
      "============ PARKKI ============\n",
      "Count: 11\n",
      "Pct. total: 6.92%\n",
      "Avg.  Weight: 154.82 +/-  78.76\n",
      "Avg. Length1:  18.73 +/-   3.28\n",
      "Avg. Length2:  20.35 +/-   3.56\n",
      "Avg. Length3:  22.79 +/-   3.96\n",
      "Avg.  Height:   8.96 +/-   1.62\n",
      "Avg.   Width:   3.22 +/-   0.64\n",
      "\n",
      "============ PERCH ============\n",
      "Count: 56\n",
      "Pct. total: 35.22%\n",
      "Avg.  Weight: 382.24 +/- 347.62\n",
      "Avg. Length1:  25.74 +/-   8.56\n",
      "Avg. Length2:  27.89 +/-   9.02\n",
      "Avg. Length3:  29.57 +/-   9.53\n",
      "Avg.  Height:   7.86 +/-   2.88\n",
      "Avg.   Width:   4.75 +/-   1.77\n",
      "\n",
      "============ PIKE ============\n",
      "Count: 17\n",
      "Pct. total: 10.69%\n",
      "Avg.  Weight: 718.71 +/- 494.14\n",
      "Avg. Length1:  42.48 +/-   9.03\n",
      "Avg. Length2:  45.48 +/-   9.71\n",
      "Avg. Length3:  48.72 +/-  10.17\n",
      "Avg.  Height:   7.71 +/-   1.66\n",
      "Avg.   Width:   5.09 +/-   1.14\n",
      "\n",
      "============ SMELT ============\n",
      "Count: 14\n",
      "Pct. total: 8.81%\n",
      "Avg.  Weight:  11.18 +/-   4.13\n",
      "Avg. Length1:  11.26 +/-   1.22\n",
      "Avg. Length2:  11.92 +/-   1.43\n",
      "Avg. Length3:  13.04 +/-   1.43\n",
      "Avg.  Height:   2.21 +/-   0.35\n",
      "Avg.   Width:   1.34 +/-   0.29\n",
      "\n"
     ]
    }
   ],
   "source": [
    "for species in df['Species'].unique():\n",
    "    describe_species(species)\n",
    "    print()"
   ]
  },
  {
   "cell_type": "code",
   "execution_count": 7,
   "metadata": {},
   "outputs": [
    {
     "data": {
      "image/png": "[encoded data removed]",
      "text/plain": [
       "<Figure size 864x648 with 2 Axes>"
      ]
     },
     "metadata": {
      "needs_background": "light"
     },
     "output_type": "display_data"
    }
   ],
   "source": [
    "plt.figure(figsize=(12, 9))\n",
    "plt.title('Correlation matrix', size=20)\n",
    "sns.heatmap(df.corr(), annot=True, cmap='Blues');"
   ]
  },
  {
   "cell_type": "markdown",
   "metadata": {},
   "source": [
    "<br><br>\n",
    "\n",
    "## Data Preparation"
   ]
  },
  {
   "cell_type": "code",
   "execution_count": 8,
   "metadata": {},
   "outputs": [
    {
     "data": {
      "text/html": [
       "<div>\n",
       "<style scoped>\n",
       "    .dataframe tbody tr th:only-of-type {\n",
       "        vertical-align: middle;\n",
       "    }\n",
       "\n",
       "    .dataframe tbody tr th {\n",
       "        vertical-align: top;\n",
       "    }\n",
       "\n",
       "    .dataframe thead th {\n",
       "        text-align: right;\n",
       "    }\n",
       "</style>\n",
       "<table border=\"1\" class=\"dataframe\">\n",
       "  <thead>\n",
       "    <tr style=\"text-align: right;\">\n",
       "      <th></th>\n",
       "      <th>Is_Parkki</th>\n",
       "      <th>Is_Perch</th>\n",
       "      <th>Is_Pike</th>\n",
       "      <th>Is_Roach</th>\n",
       "      <th>Is_Smelt</th>\n",
       "      <th>Is_Whitefish</th>\n",
       "      <th>Weight</th>\n",
       "      <th>Length1</th>\n",
       "      <th>Length2</th>\n",
       "      <th>Length3</th>\n",
       "      <th>Height</th>\n",
       "      <th>Width</th>\n",
       "    </tr>\n",
       "  </thead>\n",
       "  <tbody>\n",
       "    <tr>\n",
       "      <th>0</th>\n",
       "      <td>0</td>\n",
       "      <td>0</td>\n",
       "      <td>0</td>\n",
       "      <td>0</td>\n",
       "      <td>0</td>\n",
       "      <td>0</td>\n",
       "      <td>242.0</td>\n",
       "      <td>23.2</td>\n",
       "      <td>25.4</td>\n",
       "      <td>30.0</td>\n",
       "      <td>11.5200</td>\n",
       "      <td>4.0200</td>\n",
       "    </tr>\n",
       "    <tr>\n",
       "      <th>1</th>\n",
       "      <td>0</td>\n",
       "      <td>0</td>\n",
       "      <td>0</td>\n",
       "      <td>0</td>\n",
       "      <td>0</td>\n",
       "      <td>0</td>\n",
       "      <td>290.0</td>\n",
       "      <td>24.0</td>\n",
       "      <td>26.3</td>\n",
       "      <td>31.2</td>\n",
       "      <td>12.4800</td>\n",
       "      <td>4.3056</td>\n",
       "    </tr>\n",
       "    <tr>\n",
       "      <th>2</th>\n",
       "      <td>0</td>\n",
       "      <td>0</td>\n",
       "      <td>0</td>\n",
       "      <td>0</td>\n",
       "      <td>0</td>\n",
       "      <td>0</td>\n",
       "      <td>340.0</td>\n",
       "      <td>23.9</td>\n",
       "      <td>26.5</td>\n",
       "      <td>31.1</td>\n",
       "      <td>12.3778</td>\n",
       "      <td>4.6961</td>\n",
       "    </tr>\n",
       "    <tr>\n",
       "      <th>3</th>\n",
       "      <td>0</td>\n",
       "      <td>0</td>\n",
       "      <td>0</td>\n",
       "      <td>0</td>\n",
       "      <td>0</td>\n",
       "      <td>0</td>\n",
       "      <td>363.0</td>\n",
       "      <td>26.3</td>\n",
       "      <td>29.0</td>\n",
       "      <td>33.5</td>\n",
       "      <td>12.7300</td>\n",
       "      <td>4.4555</td>\n",
       "    </tr>\n",
       "    <tr>\n",
       "      <th>4</th>\n",
       "      <td>0</td>\n",
       "      <td>0</td>\n",
       "      <td>0</td>\n",
       "      <td>0</td>\n",
       "      <td>0</td>\n",
       "      <td>0</td>\n",
       "      <td>430.0</td>\n",
       "      <td>26.5</td>\n",
       "      <td>29.0</td>\n",
       "      <td>34.0</td>\n",
       "      <td>12.4440</td>\n",
       "      <td>5.1340</td>\n",
       "    </tr>\n",
       "  </tbody>\n",
       "</table>\n",
       "</div>"
      ],
      "text/plain": [
       "   Is_Parkki  Is_Perch  Is_Pike  Is_Roach  Is_Smelt  Is_Whitefish  Weight  \\\n",
       "0          0         0        0         0         0             0   242.0   \n",
       "1          0         0        0         0         0             0   290.0   \n",
       "2          0         0        0         0         0             0   340.0   \n",
       "3          0         0        0         0         0             0   363.0   \n",
       "4          0         0        0         0         0             0   430.0   \n",
       "\n",
       "   Length1  Length2  Length3   Height   Width  \n",
       "0     23.2     25.4     30.0  11.5200  4.0200  \n",
       "1     24.0     26.3     31.2  12.4800  4.3056  \n",
       "2     23.9     26.5     31.1  12.3778  4.6961  \n",
       "3     26.3     29.0     33.5  12.7300  4.4555  \n",
       "4     26.5     29.0     34.0  12.4440  5.1340  "
      ]
     },
     "execution_count": 8,
     "metadata": {},
     "output_type": "execute_result"
    }
   ],
   "source": [
    "species_dummies = pd.get_dummies(df['Species'], drop_first=True, prefix='Is')\n",
    "\n",
    "df = pd.concat([species_dummies, df], axis=1)\n",
    "df.drop('Species', axis=1, inplace=True)\n",
    "\n",
    "df.head()"
   ]
  },
  {
   "cell_type": "markdown",
   "metadata": {},
   "source": [
    "<br><br>\n",
    "\n",
    "## Modelling"
   ]
  },
  {
   "cell_type": "code",
   "execution_count": 9,
   "metadata": {},
   "outputs": [
    {
     "name": "stderr",
     "output_type": "stream",
     "text": [
      "/Users/dradecic/opt/anaconda3/lib/python3.8/site-packages/tpot/builtins/__init__.py:36: UserWarning: Warning: optional dependency `torch` is not available. - skipping import of NN models.\n",
      "  warnings.warn(\"Warning: optional dependency `torch` is not available. - skipping import of NN models.\")\n"
     ]
    }
   ],
   "source": [
    "from tpot import TPOTRegressor\n",
    "from sklearn.model_selection import train_test_split\n",
    "from sklearn.metrics import mean_squared_error, make_scorer\n",
    "\n",
    "rmse = lambda y, y_hat: np.sqrt(mean_squared_error(y, y_hat))"
   ]
  },
  {
   "cell_type": "code",
   "execution_count": 10,
   "metadata": {},
   "outputs": [],
   "source": [
    "X = df.drop('Weight', axis=1)\n",
    "y = df['Weight']\n",
    "\n",
    "X_train, X_test, y_train, y_test = train_test_split(\n",
    "    X, y, test_size=0.25, random_state=42\n",
    ")"
   ]
  },
  {
   "cell_type": "code",
   "execution_count": 11,
   "metadata": {},
   "outputs": [
    {
     "data": {
      "text/plain": [
       "((119,), (40,))"
      ]
     },
     "execution_count": 11,
     "metadata": {},
     "output_type": "execute_result"
    }
   ],
   "source": [
    "y_train.shape, y_test.shape"
   ]
  },
  {
   "cell_type": "code",
   "execution_count": 12,
   "metadata": {},
   "outputs": [
    {
     "data": {
      "text/plain": [
       "82.10709519987495"
      ]
     },
     "execution_count": 12,
     "metadata": {},
     "output_type": "execute_result"
    }
   ],
   "source": [
    "from sklearn.linear_model import LinearRegression\n",
    "\n",
    "lm = LinearRegression()\n",
    "lm.fit(X_train, y_train)\n",
    "\n",
    "lm_preds = lm.predict(X_test)\n",
    "rmse(y_test, lm_preds)"
   ]
  },
  {
   "cell_type": "code",
   "execution_count": 13,
   "metadata": {},
   "outputs": [
    {
     "data": {
      "text/plain": [
       "TPOTRegressor(max_time_mins=10, random_state=42,\n",
       "              scoring=make_scorer(<lambda>, greater_is_better=False))"
      ]
     },
     "execution_count": 13,
     "metadata": {},
     "output_type": "execute_result"
    }
   ],
   "source": [
    "rmse_scorer = make_scorer(rmse, greater_is_better=False)\n",
    "\n",
    "pipeline_optimizer = TPOTRegressor(\n",
    "    scoring=rmse_scorer,\n",
    "    max_time_mins=10,\n",
    "    random_state=42\n",
    ")\n",
    "\n",
    "pipeline_optimizer.fit(X_train, y_train)"
   ]
  },
  {
   "cell_type": "code",
   "execution_count": 14,
   "metadata": {},
   "outputs": [
    {
     "name": "stdout",
     "output_type": "stream",
     "text": [
      "-73.3463475920203\n"
     ]
    }
   ],
   "source": [
    "print(pipeline_optimizer.score(X_test, y_test))"
   ]
  },
  {
   "cell_type": "code",
   "execution_count": 16,
   "metadata": {},
   "outputs": [
    {
     "data": {
      "text/plain": [
       "Pipeline(steps=[('minmaxscaler', MinMaxScaler()),\n",
       "                ('stackingestimator',\n",
       "                 StackingEstimator(estimator=SGDRegressor(alpha=0.0, eta0=1.0,\n",
       "                                                          l1_ratio=0.0,\n",
       "                                                          learning_rate='constant',\n",
       "                                                          loss='huber',\n",
       "                                                          penalty='elasticnet',\n",
       "                                                          power_t=0.1,\n",
       "                                                          random_state=42))),\n",
       "                ('adaboostregressor',\n",
       "                 AdaBoostRegressor(loss='exponential', n_estimators=100,\n",
       "                                   random_state=42))])"
      ]
     },
     "execution_count": 16,
     "metadata": {},
     "output_type": "execute_result"
    }
   ],
   "source": [
    "pipeline_optimizer.fitted_pipeline_"
   ]
  },
  {
   "cell_type": "code",
   "execution_count": 15,
   "metadata": {},
   "outputs": [],
   "source": [
    "pipeline_optimizer.export('fish_pipeline.py')"
   ]
  }
 ],
 "metadata": {
  "kernelspec": {
   "display_name": "Python 3",
   "language": "python",
   "name": "python3"
  },
  "language_info": {
   "codemirror_mode": {
    "name": "ipython",
    "version": 3
   },
   "file_extension": ".py",
   "mimetype": "text/x-python",
   "name": "python",
   "nbconvert_exporter": "python",
   "pygments_lexer": "ipython3",
   "version": "3.8.3"
  }
 },
 "nbformat": 4,
 "nbformat_minor": 4
}

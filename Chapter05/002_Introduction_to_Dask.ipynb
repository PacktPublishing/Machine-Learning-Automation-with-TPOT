{
 "cells": [
  {
   "cell_type": "markdown",
   "metadata": {},
   "source": [
    "## Dask Arrays"
   ]
  },
  {
   "cell_type": "code",
   "execution_count": 1,
   "metadata": {},
   "outputs": [
    {
     "name": "stdout",
     "output_type": "stream",
     "text": [
      "CPU times: user 1.86 s, sys: 2.21 s, total: 4.07 s\n",
      "Wall time: 4.35 s\n"
     ]
    }
   ],
   "source": [
    "%%time\n",
    "\n",
    "import numpy as np\n",
    "\n",
    "np_ones = np.ones((1000, 1000, 1000))"
   ]
  },
  {
   "cell_type": "code",
   "execution_count": 3,
   "metadata": {},
   "outputs": [
    {
     "name": "stdout",
     "output_type": "stream",
     "text": [
      "CPU times: user 677 µs, sys: 12 µs, total: 689 µs\n",
      "Wall time: 696 µs\n"
     ]
    }
   ],
   "source": [
    "%%time\n",
    "\n",
    "import dask.array as da\n",
    "\n",
    "da_ones = da.ones((1000, 1000, 1000))"
   ]
  },
  {
   "cell_type": "code",
   "execution_count": 3,
   "metadata": {},
   "outputs": [
    {
     "data": {
      "text/plain": [
       "(100000, 1000, 1000)"
      ]
     },
     "execution_count": 3,
     "metadata": {},
     "output_type": "execute_result"
    }
   ],
   "source": [
    "da_ones.shape"
   ]
  },
  {
   "cell_type": "markdown",
   "metadata": {},
   "source": [
    "<br><br>\n",
    "\n",
    "## Dask DataFrames"
   ]
  },
  {
   "cell_type": "code",
   "execution_count": 8,
   "metadata": {},
   "outputs": [],
   "source": [
    "import pandas as pd\n",
    "from datetime import datetime"
   ]
  },
  {
   "cell_type": "markdown",
   "metadata": {},
   "source": [
    "- Create 10 CSV files, each has around 1GB"
   ]
  },
  {
   "cell_type": "code",
   "execution_count": 53,
   "metadata": {},
   "outputs": [],
   "source": [
    "for year in np.arange(2010, 2020):\n",
    "    dates = pd.date_range(\n",
    "        start=datetime(year=year, month=1, day=1),\n",
    "        end=datetime(year=year, month=12, day=31),\n",
    "        freq='S'\n",
    "    )\n",
    "    df = pd.DataFrame()\n",
    "    df['Date'] = dates\n",
    "    for i in range(5):\n",
    "        df[f'X{i}'] = np.random.randint(low=0, high=100, size=len(df))\n",
    "        \n",
    "    df.to_csv(f'data/{year}.csv', index=False)"
   ]
  },
  {
   "cell_type": "markdown",
   "metadata": {},
   "source": [
    "- List all of them:"
   ]
  },
  {
   "cell_type": "code",
   "execution_count": 54,
   "metadata": {},
   "outputs": [
    {
     "name": "stdout",
     "output_type": "stream",
     "text": [
      "2010.csv 2012.csv 2014.csv 2016.csv 2018.csv\n",
      "2011.csv 2013.csv 2015.csv 2017.csv 2019.csv\n"
     ]
    }
   ],
   "source": [
    "!ls data/"
   ]
  },
  {
   "cell_type": "markdown",
   "metadata": {},
   "source": [
    "<br>\n",
    "\n",
    "### Pandas (Single dataset)"
   ]
  },
  {
   "cell_type": "code",
   "execution_count": 55,
   "metadata": {},
   "outputs": [
    {
     "name": "stdout",
     "output_type": "stream",
     "text": [
      "CPU times: user 26.5 s, sys: 9.7 s, total: 36.2 s\n",
      "Wall time: 42 s\n"
     ]
    }
   ],
   "source": [
    "%%time\n",
    "\n",
    "df = pd.read_csv('data/2010.csv', parse_dates=['Date'])\n",
    "avg = df.groupby(by=df['Date'].dt.month).sum()"
   ]
  },
  {
   "cell_type": "markdown",
   "metadata": {},
   "source": [
    "<br>\n",
    "\n",
    "### Pandas (Multiple datasets)"
   ]
  },
  {
   "cell_type": "code",
   "execution_count": 56,
   "metadata": {},
   "outputs": [],
   "source": [
    "import glob"
   ]
  },
  {
   "cell_type": "code",
   "execution_count": null,
   "metadata": {},
   "outputs": [],
   "source": [
    "%%time\n",
    "\n",
    "all_files = glob.glob('data/*.csv')\n",
    "dfs = []\n",
    "\n",
    "for fname in all_files:\n",
    "    dfs.append(pd.read_csv(fname, parse_dates=['Date']))\n",
    "    \n",
    "df = pd.concat(dfs, axis=0)\n",
    "agg = df.groupby(by=df['Date'].dt.year).sum()"
   ]
  },
  {
   "cell_type": "markdown",
   "metadata": {},
   "source": [
    "<br><br>\n",
    "\n",
    "### Dask DataFrames"
   ]
  },
  {
   "cell_type": "code",
   "execution_count": 1,
   "metadata": {},
   "outputs": [],
   "source": [
    "import dask.dataframe as dd"
   ]
  },
  {
   "cell_type": "code",
   "execution_count": 2,
   "metadata": {},
   "outputs": [
    {
     "name": "stdout",
     "output_type": "stream",
     "text": [
      "CPU times: user 5min 3s, sys: 1min 11s, total: 6min 15s\n",
      "Wall time: 3min 41s\n"
     ]
    }
   ],
   "source": [
    "%%time\n",
    "\n",
    "df = dd.read_csv('data/*.csv', parse_dates=['Date'])\n",
    "agg = df.groupby(by=df['Date'].dt.year).sum().compute()"
   ]
  },
  {
   "cell_type": "markdown",
   "metadata": {},
   "source": [
    "<br><br>\n",
    "\n",
    "## Parallel processing with Dask"
   ]
  },
  {
   "cell_type": "code",
   "execution_count": 1,
   "metadata": {},
   "outputs": [],
   "source": [
    "import time\n",
    "import dask\n",
    "import math\n",
    "from dask import delayed, compute"
   ]
  },
  {
   "cell_type": "code",
   "execution_count": 9,
   "metadata": {},
   "outputs": [
    {
     "name": "stdout",
     "output_type": "stream",
     "text": [
      "cube(1) called!\n",
      "cube(2) called!\n",
      "cube(3) called!\n",
      "cube(4) called!\n",
      "cube(5) called!\n",
      "multiply([[1, 8, 27, 64, 125]]) called!\n",
      "Total = 1728000\n",
      "CPU times: user 8.04 ms, sys: 4 ms, total: 12 ms\n",
      "Wall time: 5.02 s\n"
     ]
    }
   ],
   "source": [
    "%%time\n",
    "\n",
    "def cube(number: int) -> int:\n",
    "    print(f'cube({number}) called!')\n",
    "    time.sleep(1)\n",
    "    return number ** 3\n",
    "\n",
    "def multiply(items: list) -> int:\n",
    "    print(f'multiply([{items}]) called!')\n",
    "    return math.prod(items)\n",
    "\n",
    "numbers = [1, 2, 3, 4, 5]\n",
    "graph = multiply([cube(num) for num in numbers])\n",
    "print(f'Total = {graph}')"
   ]
  },
  {
   "cell_type": "code",
   "execution_count": 10,
   "metadata": {},
   "outputs": [
    {
     "name": "stdout",
     "output_type": "stream",
     "text": [
      "cube(3) called!cube(2) called!cube(4) called!\n",
      "\n",
      "cube(1) called!\n",
      "cube(5) called!\n",
      "\n",
      "multiply([[1, 8, 27, 64, 125]]) called!\n",
      "Total = 1728000\n",
      "CPU times: user 6.37 ms, sys: 5.4 ms, total: 11.8 ms\n",
      "Wall time: 1.01 s\n"
     ]
    }
   ],
   "source": [
    "%%time\n",
    "\n",
    "@delayed\n",
    "def cube(number: int) -> int:\n",
    "    print(f'cube({number}) called!')\n",
    "    time.sleep(1)\n",
    "    return number ** 3\n",
    "\n",
    "@delayed\n",
    "def multiply(items: list) -> int:\n",
    "    print(f'multiply([{items}]) called!')\n",
    "    return math.prod(items)\n",
    "\n",
    "numbers = [1, 2, 3, 4, 5]\n",
    "graph = multiply([cube(num) for num in numbers])\n",
    "print(f'Total = {graph.compute()}')"
   ]
  },
  {
   "cell_type": "code",
   "execution_count": 11,
   "metadata": {},
   "outputs": [
    {
     "data": {
      "image/png": "[encoded data removed]",
      "text/plain": [
       "<IPython.core.display.Image object>"
      ]
     },
     "execution_count": 11,
     "metadata": {},
     "output_type": "execute_result"
    }
   ],
   "source": [
    "graph.visualize()"
   ]
  }
 ],
 "metadata": {
  "kernelspec": {
   "display_name": "Python 3",
   "language": "python",
   "name": "python3"
  },
  "language_info": {
   "codemirror_mode": {
    "name": "ipython",
    "version": 3
   },
   "file_extension": ".py",
   "mimetype": "text/x-python",
   "name": "python",
   "nbconvert_exporter": "python",
   "pygments_lexer": "ipython3",
   "version": "3.8.3"
  }
 },
 "nbformat": 4,
 "nbformat_minor": 4
}

{
 "cells": [
  {
   "cell_type": "markdown",
   "metadata": {},
   "source": [
    "## Code a Single Layer of a Neural Network"
   ]
  },
  {
   "cell_type": "code",
   "execution_count": 1,
   "metadata": {},
   "outputs": [],
   "source": [
    "inputs = [5, 4, 2, 1, 6]\n",
    "weights = [\n",
    "    [0.1, 0.3, 0.05, 0.4, 0.9],\n",
    "    [0.3, 0.15, 0.4, 0.7, 0.2]\n",
    "]\n",
    "biases = [4, 2]"
   ]
  },
  {
   "cell_type": "code",
   "execution_count": 2,
   "metadata": {},
   "outputs": [
    {
     "data": {
      "text/plain": [
       "[11.600000000000001, 6.800000000000001]"
      ]
     },
     "execution_count": 2,
     "metadata": {},
     "output_type": "execute_result"
    }
   ],
   "source": [
    "# METHOD 1 - Pure python\n",
    "layer = []\n",
    "\n",
    "for n_w, n_b in zip(weights, biases):\n",
    "    output = 0\n",
    "    for x, w in zip(inputs, n_w):\n",
    "        output += x * w\n",
    "    output += n_b\n",
    "    layer.append(output)\n",
    "    \n",
    "layer"
   ]
  },
  {
   "cell_type": "code",
   "execution_count": 3,
   "metadata": {},
   "outputs": [
    {
     "data": {
      "text/plain": [
       "[11.600000000000001, 6.8]"
      ]
     },
     "execution_count": 3,
     "metadata": {},
     "output_type": "execute_result"
    }
   ],
   "source": [
    "# METHOD 2 - Vector dot product for each row in the weights matrix\n",
    "import numpy as np\n",
    "\n",
    "layer = []\n",
    "\n",
    "for n_w, n_b in zip(weights, biases):\n",
    "    layer.append(np.dot(inputs, n_w) + n_b)\n",
    "\n",
    "layer"
   ]
  },
  {
   "cell_type": "code",
   "execution_count": 4,
   "metadata": {},
   "outputs": [
    {
     "data": {
      "text/plain": [
       "array([11.6,  6.8])"
      ]
     },
     "execution_count": 4,
     "metadata": {},
     "output_type": "execute_result"
    }
   ],
   "source": [
    "# METHOD 3 - Numpy\n",
    "layer = np.dot(inputs, np.transpose(weights)) + biases\n",
    "layer"
   ]
  }
 ],
 "metadata": {
  "kernelspec": {
   "display_name": "Python 3",
   "language": "python",
   "name": "python3"
  },
  "language_info": {
   "codemirror_mode": {
    "name": "ipython",
    "version": 3
   },
   "file_extension": ".py",
   "mimetype": "text/x-python",
   "name": "python",
   "nbconvert_exporter": "python",
   "pygments_lexer": "ipython3",
   "version": "3.8.5"
  }
 },
 "nbformat": 4,
 "nbformat_minor": 4
}
